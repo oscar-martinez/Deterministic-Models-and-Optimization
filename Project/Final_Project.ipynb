{
 "cells": [
  {
   "cell_type": "markdown",
   "metadata": {},
   "source": [
    "# PROGRAMMING PROJECT\n",
    "\n",
    "## DETERMINISTIC MODELS AND OPTIMIZATION\n",
    "\n",
    "### Sam MacIntyre, Oscar Martínez and Monika Matyja"
   ]
  },
  {
   "cell_type": "markdown",
   "metadata": {},
   "source": [
    "# 1. Edit distance algorithm"
   ]
  },
  {
   "cell_type": "markdown",
   "metadata": {},
   "source": [
    "## 1.1. Discussion of Problem\n",
    "\n",
    "  The edit distance measures the minimum number of operations (single-character edits) required to change a string $A$ of length $m$ into a string $B$ with length $n$. The distance has many applications across linguistics, bioinformatics and other fields. \n",
    "  \n",
    "  \n",
    " \n",
    " \n",
    "## 1.2. The Proposed Algorithm and Algorithmic Paradigm\n",
    "\n",
    "We employ a dynamic programming approach to compute the edit distance. Dynamic programming refers to the method of recursively breaking up a problem into sub-problems. In the situation where we can optimally solve the problem by breaking up the problem into sub-problems, then solving them optimally - the problem is said to have an **optimal substructure**. \n",
    "\n",
    "Further more, we take advantage of the process of **memoization**, which is a technique of saving values to previously computed sub-problems. This improves the speed of the calculation but requires more memory. \n",
    "\n",
    "Our algorithm works by computing a matrix containing $D(i,j)$ for $0 ≤ i ≤ m$ and $0 ≤ j ≤ n$ where D(i,j) represents the minimum edit distance between the first $i$ characters of string $A$ and the first $j$ characters of string $B$.\n",
    "\n",
    "We first fill the base cases of the problem, the first row and column of the matrix corresponding to  $D(i,j)$ where $i = 0$ or $j = 0$, this is the edit distance between $A[i]$ and the $0$ string or $A[j]$ and the $0$ string. The minimum edit distance in these cases is clearly $i$ and $j$ respectively as we simply need to insert/delete $i/j$ characters to achieve the objective string. The $[0,0]$ entry of the matrix corresponds to distance between two $0$ empty strings which is evidently zero.\n",
    "\n",
    "We then proceed to iterate over rows then columns, calculating $D(i,j)$ at each step. To calculate this optimally, we consider the cost of an insertion, deletion and a substitution (the only three options when assessing what to do with the $ith$ and $jth$ entries of $A$ and $B$). The minimum of these three assessments is taken as optimal edit distance at this $i$ and $j$ value. Each insertion or deletion has a cost of 1, and a substitution has a cost of 1 only if $A[i] ≠ B[j]$. An insertion requires us to insert $B[j]$ and then assess $D(i,j-1)$ (optimum not including the inserted $B[j]$). A deletion requires us to delete $A[i]$ and then assess $D(i-1,j)$ (optimum not including the deleted $A[i]$). A substitution requires us either to keep things the same if $(A[i] = B[j])$ and then the cost remains $D(i-1,j-1)$, if $(A[i] ≠ B[j])$, we increase the cost by 1 and assess $D(i-1,j-1)$. These processes are explained more succintly below in the proof of correctness.\n",
    "\n",
    "$$D(i,j) = min\\{D(i-1,j)+1, D(i,j-1)+1, D(i-1,j-1) + \\textbf{1}_{\\{i≠j\\}}\\}$$\n",
    "\n",
    "To extract the operations required to convert the string, we simply backtrack through the matrix choosing the minimum each time - the direction of the step tells us whether we inserted, deleted or substituted."
   ]
  },
  {
   "cell_type": "markdown",
   "metadata": {},
   "source": [
    "## 1.3. Analysis of Complexity\n",
    "\n",
    "TIme of computation is related to the total number of operations we are doing to obtain the final solution.\n",
    "\n",
    "In this case, we are going iteratively to each cell of the matrix with two  $\\texttt{For}$  loops.\n",
    "\n",
    "For each cell of the matrix we are doing four operations, the if statement which does a comparision and then three comparations for the minimum between the three adjacents cells. Therefore, if our dist_matrix has a size $(n+1,m+1)$ we will be doing $4(n+1)(m+1)$, expanding this out and disregarding constants, we find that the complexity scales as:\n",
    "\n",
    "$$O(mn)$$\n",
    "\n",
    "Note that our memory requirement is also $O(mn)$ due to the use of memoization"
   ]
  },
  {
   "cell_type": "markdown",
   "metadata": {},
   "source": [
    "## 1.4. Proof of correctness\n",
    "\n",
    "Suppose we have two strings $A$ and $B$ with lengths $m$ and $n$ respectively. Let $D(m,n)$ represent the Levenshtein Distance between the two full strings and $D(i,j)$ represent the distance between the first $i$ characters of A and the first $j$ characters of B.\n",
    "\n",
    "### 1.4.1. Our recurrence\n",
    "\n",
    "$D(i,j) = min\\{D(i-1,j)+1, D(i,j-1)+1, D(i-1,j-1) + \\textbf{1}_{\\{i≠j\\}}\\}$ \n",
    "\n",
    "### 1.4.2. Base cases for induction\n",
    "\n",
    "We require multiple base cases for this problem as each recursive step needs 3 other sub-problems to be optimally solved. Fortunately, showing the base cases is straightforward. Consider $D(i,j)$ where $i = 0$ or $j = 0$, this is equivalent to comparing the edit distance of the first $i$ characters of string $A$ to the $0$ string, clearly the minimum edit distance in this case is the insertion/deletion of the $i$ characters - $D(i,0) = i$. A symmetrical argument gives $D(0,j) = j$. The final trivial base case is $D(0,0) = 0$ as the edit distance between two empty strings is $0$.\n",
    "\n",
    "### 1.4.3. Inductive step\n",
    "\n",
    "Now we need to show that by assuming we can optimally solve the $D(i-1,j)$, $D(i,j-1)$ and $D(i-1,j-1)$ sub-problems  $\\implies D(i,j)$ is also optimal.\n",
    "\n",
    "Here it is important to recognise that there are only 3 possibilities when editing $A[i]$ into $B[j]$:\n",
    "\n",
    "* **Substitution** - Compare $A[i]$ and $B[j]$, if they are equal, the cost is 0, if they are different, we add a cost of 1. In both cases, we add this cost to the optimal cost of the sub-problem $D(i-1,j-1)$ which is already solved due to the inductive assumption. We summarise this below:\n",
    "\n",
    "\n",
    " $$D(i,j) = \\left\\{ \\begin{array}{11}\n",
    "1 + D(i-1,j-1) & \\mbox{if $A[i] ≠ B[j]$}\\\\\n",
    "D(i-1,j-1) & \\mbox{if $A[i] = B[j]$} \n",
    "\\end{array} \\right. $$\n",
    "\n",
    "\n",
    "\n",
    "* **Insertion** - In this case we need to insert $B[j]$ into the string which has a cost of 1. So our cost will be 1 + the cost of editing $B[1...j-1]$ into $A[i]$ as we have chosen to insert $B[j]$ into the final edit. By assumption, $D(i,j-1)$ has already been computed optimally, so we again recover the optimal solution for $D(i,j)$ in this case.\n",
    "\n",
    " $$D(i,j) = 1 + D(i,j-1)$$\n",
    " \n",
    "\n",
    "* **Deletion** - In this we choose to delete $A[i]$ which has cost 1. So our will be 1 + the cost of editing $A[1...i-1]$ into $B[j]$ as we have chosen to delete $A[i]$ from the final edit at this point.$D(i-1,j)$ has already been computed optimally at this point so we again recover the optimal solution for $D(i,j)$ in this final case. \n",
    "\n",
    "$$D(i,j) = 1 + D(i-1,j)$$\n",
    "\n",
    "\n",
    "The minimum of these 3 options is hence the miminum edit distance: $D(i,j)$ and we have shown that each optimally solved sub-problem $\\implies D(i,j)$ is also solved optimally. From this fact and the base cases, by the Principle of Mathematical Induction, D(m,n) is solved optimally.\n"
   ]
  },
  {
   "cell_type": "markdown",
   "metadata": {},
   "source": [
    "## 1.5. Code  "
   ]
  },
  {
   "cell_type": "markdown",
   "metadata": {},
   "source": [
    "### 1.5.1. Edit distance without penalty and backtracing"
   ]
  },
  {
   "cell_type": "code",
   "execution_count": 14,
   "metadata": {},
   "outputs": [
    {
     "name": "stdout",
     "output_type": "stream",
     "text": [
      "CPU times: user 10 µs, sys: 2 µs, total: 12 µs\n",
      "Wall time: 16.5 µs\n"
     ]
    }
   ],
   "source": [
    "import numpy as np\n",
    "\n",
    "def edit_distance(x,y):\n",
    "    #we have to create an empty matrix where the rows will be the length of our first word +1 \n",
    "    # (the 0 index and then all the word) and the column will be our second word\n",
    "    #in each cell of the matrix [i,j] we will have the edit distance between x[0:i+1] and y[0:j+1]\n",
    "    #the cell on the bottom left corner will tell us the levenshtein distance between x and y\n",
    "    rows=len(x)+1\n",
    "    cols=len(y)+1\n",
    "    d_mat_size=(rows,cols)\n",
    "\n",
    "    distance_matrix=np.zeros(d_mat_size)\n",
    "    pointer_matrix=np.zeros(d_mat_size) #we need to create a matrix for the pointers that will\n",
    "    # indicate which operation took place in each cell\n",
    "    #for the column 0 (no letter of the word y assigned  to it) and all the other rows the edit distance will \n",
    "    #simply be the row index\n",
    "    #as it will correspond to the edit distance between an empty string (col 0) and i characters \n",
    "    #(where i is the row where we are)\n",
    "    #this is the same for the row 0 and all the columns\n",
    "    row_0=range(rows)\n",
    "    col_0=range(cols)\n",
    "    distance_matrix[:,0]=range(rows) #we fill the matrix as previously mentioned before\n",
    "    distance_matrix[0,:]=range(cols)\n",
    "    pointer_matrix[1:rows,0]=1 #the first column (except the first cell) is all 1(deletions)\n",
    "    pointer_matrix[0,1:cols]=2 #the first row (except the first cell) is all 2 (insertions)\n",
    "    for col in range(1, cols):\n",
    "            for row in range(1, rows): \n",
    "                if x[row-1] == y[col-1]: #check if current letters are the same, if they are we set cost=0\n",
    "                    cost = 0 \n",
    "                else:\n",
    "                    cost = 1 #if not set cost=1\n",
    "                    #now there are three possible operations to inspect (insertion, deletion and substitution) \n",
    "                    #and we pick the one wit the shortest distance\n",
    "                delete=distance_matrix[row-1][col] + 1 #deletion corresponds to the value of moving one cell up plus one\n",
    "                insert=distance_matrix[row][col-1] + 1#insertion corresponds to the value of moving one cell left plus 1\n",
    "                subst=distance_matrix[row-1][col-1] + cost #deletion corresponds to the value of moving diagonal backward \n",
    "                #plus one if the letters are not the same                \n",
    "                distance_matrix[row][col] = min(delete,insert,subst)\n",
    "                #now we will fill the pointer matrix to see from which operation each cell comes \n",
    "                #(from an insertion a deletion or a subst)\n",
    "                if min(delete,insert,subst)==delete:\n",
    "                    pointer_matrix[row][col]=1 #if we have deleted put a 1 as the value\n",
    "                elif min(delete,insert,subst)==insert:\n",
    "                    pointer_matrix[row][col]=2  #if we have inserted put a 2 as the value\n",
    "                elif min(delete,insert,subst)==subst and cost==1:\n",
    "                    pointer_matrix[row][col]=3  #if we have subst put a 3 as the value\n",
    "                else:\n",
    "                     pointer_matrix[row][col]=4  #if we have subst for the same letter we put a 4 as the value\n",
    "    return distance_matrix,pointer_matrix\n",
    "\n",
    "#for backtrace we will start on the bottom right corner and follow the operation that took place in each cell of the path\n",
    "def backtrace(pointer_matrix):\n",
    "    path=[]\n",
    "    row,col=pointer_matrix.shape\n",
    "    col=col-1\n",
    "    row=row-1\n",
    "    while (row,col)!=(0,0): #we won't stop until we reach the top left corner\n",
    "        operation=pointer_matrix[row][col] #we get the operation that took place to reach that cell\n",
    "        if operation==1: #depending on the operation that took place we append a different term to our path and we go back\n",
    "            path.append('Deletion')\n",
    "            col=col\n",
    "            row=row-1 #if a deletion took place we move to the cell on top\n",
    "\n",
    "        elif operation==2:\n",
    "            path.append('Insertion')\n",
    "            col=col-1\n",
    "            row=row #if a insertion took place we move to the cell on the left\n",
    "\n",
    "        elif operation==3:\n",
    "            path.append('Substitution')\n",
    "            col=col-1\n",
    "            row=row-1 #if a susbtitution took place we move backward diagonal\n",
    "\n",
    "        else:\n",
    "            path.append('Same letter')\n",
    "            col=col-1\n",
    "            row=row-1 #if a the letters were the same we move backward diagonal\n",
    "\n",
    "    return list(reversed(path)) #we return the list reversed because we started from the end "
   ]
  },
  {
   "cell_type": "markdown",
   "metadata": {},
   "source": [
    "### 1.5.2. Edit distance with extra penalty"
   ]
  },
  {
   "cell_type": "code",
   "execution_count": 15,
   "metadata": {},
   "outputs": [],
   "source": [
    "def edit_distance_pen(x,y):\n",
    "    rows=len(x)+1\n",
    "    cols=len(y)+1\n",
    "    d_mat_size=(rows,cols)\n",
    "\n",
    "    distance_matrix_pen=np.zeros(d_mat_size)\n",
    "    row_0=range(rows)\n",
    "    col_0=range(cols)\n",
    "    distance_matrix_pen[:,0]=range(rows)\n",
    "    distance_matrix_pen[0,:]=range(cols)\n",
    "\n",
    "    for col in range(1, cols):\n",
    "            for row in range(1, rows): \n",
    "                if x[row-1] == y[col-1]: \n",
    "                    cost = 0 \n",
    "                else:\n",
    "                    cost = 1 \n",
    "                delete=distance_matrix_pen[row-1][col] + 2 #we modify to add a cost 2 for deletion and insertion    \n",
    "                insert=distance_matrix_pen[row][col-1] + 2\n",
    "                subst=distance_matrix_pen[row-1][col-1] + cost#the cost of substitution was one so no need to modify\n",
    "                distance_matrix_pen[row][col] = min(delete,insert,subst)\n",
    "    return distance_matrix_pen"
   ]
  },
  {
   "cell_type": "markdown",
   "metadata": {},
   "source": [
    "## 1.6. Output"
   ]
  },
  {
   "cell_type": "markdown",
   "metadata": {},
   "source": [
    "### 1.6.1. Output for DNA strings"
   ]
  },
  {
   "cell_type": "code",
   "execution_count": 16,
   "metadata": {},
   "outputs": [],
   "source": [
    "x='ACTACTAGATTACTTACGGATCAGGTACTTTAGAGGCTTGCAACCA'\n",
    "y='TACTAGCTTACTTACCCATCAGGTTTTAGAGATGGCAACCA'\n",
    "distance_matrix_dna , pointer_matrix_dna=edit_distance(x,y)\n",
    "back_trace_dna=backtrace(pointer_matrix_dna)"
   ]
  },
  {
   "cell_type": "code",
   "execution_count": 17,
   "metadata": {},
   "outputs": [
    {
     "data": {
      "text/plain": [
       "array([[ 0.,  1.,  2., ..., 39., 40., 41.],\n",
       "       [ 1.,  1.,  1., ..., 38., 39., 40.],\n",
       "       [ 2.,  2.,  2., ..., 37., 38., 39.],\n",
       "       ...,\n",
       "       [44., 43., 42., ..., 10., 11., 12.],\n",
       "       [45., 44., 43., ..., 11., 10., 11.],\n",
       "       [46., 45., 44., ..., 12., 11., 10.]])"
      ]
     },
     "execution_count": 17,
     "metadata": {},
     "output_type": "execute_result"
    }
   ],
   "source": [
    "distance_matrix_dna"
   ]
  },
  {
   "cell_type": "markdown",
   "metadata": {},
   "source": [
    "The cost of transorming the sequence x into the sequence y is 10."
   ]
  },
  {
   "cell_type": "code",
   "execution_count": 18,
   "metadata": {
    "scrolled": true
   },
   "outputs": [
    {
     "data": {
      "text/plain": [
       "['Deletion',\n",
       " 'Deletion',\n",
       " 'Same letter',\n",
       " 'Same letter',\n",
       " 'Same letter',\n",
       " 'Same letter',\n",
       " 'Same letter',\n",
       " 'Same letter',\n",
       " 'Substitution',\n",
       " 'Same letter',\n",
       " 'Same letter',\n",
       " 'Same letter',\n",
       " 'Same letter',\n",
       " 'Same letter',\n",
       " 'Same letter',\n",
       " 'Same letter',\n",
       " 'Same letter',\n",
       " 'Substitution',\n",
       " 'Substitution',\n",
       " 'Same letter',\n",
       " 'Same letter',\n",
       " 'Same letter',\n",
       " 'Same letter',\n",
       " 'Same letter',\n",
       " 'Same letter',\n",
       " 'Same letter',\n",
       " 'Deletion',\n",
       " 'Deletion',\n",
       " 'Same letter',\n",
       " 'Same letter',\n",
       " 'Same letter',\n",
       " 'Same letter',\n",
       " 'Same letter',\n",
       " 'Same letter',\n",
       " 'Same letter',\n",
       " 'Substitution',\n",
       " 'Deletion',\n",
       " 'Same letter',\n",
       " 'Substitution',\n",
       " 'Same letter',\n",
       " 'Same letter',\n",
       " 'Same letter',\n",
       " 'Same letter',\n",
       " 'Same letter',\n",
       " 'Same letter',\n",
       " 'Same letter']"
      ]
     },
     "execution_count": 18,
     "metadata": {},
     "output_type": "execute_result"
    }
   ],
   "source": [
    "back_trace_dna"
   ]
  },
  {
   "cell_type": "markdown",
   "metadata": {},
   "source": [
    "### 1.6.2. Output for protein chains"
   ]
  },
  {
   "cell_type": "code",
   "execution_count": 19,
   "metadata": {},
   "outputs": [],
   "source": [
    "x='AASRPRSGVPAQSDSDPCQNLAATPIPSRPPSSQSCQKCRADARQGRWGP'\n",
    "y='SGAPGQRGEPGPQGHAGAPGPPGPPGSDG'\n",
    "distance_matrix_pro , pointer_matrix_pro=edit_distance(x,y)\n",
    "back_trace_pro=backtrace(pointer_matrix_pro)"
   ]
  },
  {
   "cell_type": "code",
   "execution_count": 20,
   "metadata": {},
   "outputs": [
    {
     "data": {
      "text/plain": [
       "array([[ 0.,  1.,  2., ..., 27., 28., 29.],\n",
       "       [ 1.,  1.,  2., ..., 26., 27., 28.],\n",
       "       [ 2.,  2.,  2., ..., 25., 26., 27.],\n",
       "       ...,\n",
       "       [48., 47., 46., ..., 37., 36., 35.],\n",
       "       [49., 48., 47., ..., 38., 37., 36.],\n",
       "       [50., 49., 48., ..., 39., 38., 37.]])"
      ]
     },
     "execution_count": 20,
     "metadata": {},
     "output_type": "execute_result"
    }
   ],
   "source": [
    "distance_matrix_pro"
   ]
  },
  {
   "cell_type": "markdown",
   "metadata": {},
   "source": [
    "The cost of transorming the sequence x into the sequence y is 37."
   ]
  },
  {
   "cell_type": "code",
   "execution_count": 21,
   "metadata": {
    "scrolled": true
   },
   "outputs": [
    {
     "data": {
      "text/plain": [
       "['Substitution',\n",
       " 'Insertion',\n",
       " 'Same letter',\n",
       " 'Substitution',\n",
       " 'Substitution',\n",
       " 'Substitution',\n",
       " 'Same letter',\n",
       " 'Deletion',\n",
       " 'Same letter',\n",
       " 'Substitution',\n",
       " 'Same letter',\n",
       " 'Substitution',\n",
       " 'Deletion',\n",
       " 'Deletion',\n",
       " 'Deletion',\n",
       " 'Deletion',\n",
       " 'Deletion',\n",
       " 'Same letter',\n",
       " 'Deletion',\n",
       " 'Same letter',\n",
       " 'Substitution',\n",
       " 'Substitution',\n",
       " 'Same letter',\n",
       " 'Insertion',\n",
       " 'Same letter',\n",
       " 'Deletion',\n",
       " 'Same letter',\n",
       " 'Substitution',\n",
       " 'Same letter',\n",
       " 'Substitution',\n",
       " 'Substitution',\n",
       " 'Same letter',\n",
       " 'Same letter',\n",
       " 'Substitution',\n",
       " 'Same letter',\n",
       " 'Deletion',\n",
       " 'Deletion',\n",
       " 'Deletion',\n",
       " 'Deletion',\n",
       " 'Deletion',\n",
       " 'Deletion',\n",
       " 'Deletion',\n",
       " 'Deletion',\n",
       " 'Same letter',\n",
       " 'Deletion',\n",
       " 'Deletion',\n",
       " 'Deletion',\n",
       " 'Same letter',\n",
       " 'Deletion',\n",
       " 'Deletion',\n",
       " 'Deletion',\n",
       " 'Deletion']"
      ]
     },
     "execution_count": 21,
     "metadata": {},
     "output_type": "execute_result"
    }
   ],
   "source": [
    "back_trace_pro"
   ]
  },
  {
   "cell_type": "markdown",
   "metadata": {},
   "source": [
    "### 1.6.3. Output for DNA chains with penalty"
   ]
  },
  {
   "cell_type": "code",
   "execution_count": 22,
   "metadata": {},
   "outputs": [],
   "source": [
    "x='ACTACTAGATTACTTACGGATCAGGTACTTTAGAGGCTTGCAACCA'\n",
    "y='TACTAGCTTACTTACCCATCAGGTTTTAGAGATGGCAACCA'\n",
    "distance_matrix_dna_pen=edit_distance_pen(x,y)\n"
   ]
  },
  {
   "cell_type": "code",
   "execution_count": 23,
   "metadata": {},
   "outputs": [
    {
     "data": {
      "text/plain": [
       "array([[ 0.,  1.,  2., ..., 39., 40., 41.],\n",
       "       [ 1.,  1.,  1., ..., 39., 40., 40.],\n",
       "       [ 2.,  2.,  2., ..., 37., 39., 41.],\n",
       "       ...,\n",
       "       [44., 44., 44., ..., 13., 15., 17.],\n",
       "       [45., 45., 45., ..., 15., 13., 15.],\n",
       "       [46., 46., 45., ..., 17., 15., 13.]])"
      ]
     },
     "execution_count": 23,
     "metadata": {},
     "output_type": "execute_result"
    }
   ],
   "source": [
    "distance_matrix_dna_pen"
   ]
  },
  {
   "cell_type": "markdown",
   "metadata": {},
   "source": [
    "The cost of transorming the sequence x into the sequence y is 13."
   ]
  },
  {
   "cell_type": "markdown",
   "metadata": {},
   "source": [
    "### 1.6.4. Output for proteins chains with penalty"
   ]
  },
  {
   "cell_type": "code",
   "execution_count": 24,
   "metadata": {},
   "outputs": [],
   "source": [
    "x='AASRPRSGVPAQSDSDPCQNLAATPIPSRPPSSQSCQKCRADARQGRWGP'\n",
    "y='SGAPGQRGEPGPQGHAGAPGPPGPPGSDG'\n",
    "distance_matrix_pro_pen=edit_distance_pen(x,y)\n"
   ]
  },
  {
   "cell_type": "code",
   "execution_count": 25,
   "metadata": {
    "scrolled": true
   },
   "outputs": [
    {
     "data": {
      "text/plain": [
       "array([[ 0.,  1.,  2., ..., 27., 28., 29.],\n",
       "       [ 1.,  1.,  2., ..., 27., 28., 29.],\n",
       "       [ 2.,  2.,  2., ..., 27., 28., 29.],\n",
       "       ...,\n",
       "       [48., 48., 48., ..., 45., 45., 46.],\n",
       "       [49., 49., 48., ..., 47., 46., 45.],\n",
       "       [50., 50., 50., ..., 46., 48., 47.]])"
      ]
     },
     "execution_count": 25,
     "metadata": {},
     "output_type": "execute_result"
    }
   ],
   "source": [
    "distance_matrix_pro_pen"
   ]
  },
  {
   "cell_type": "markdown",
   "metadata": {},
   "source": [
    "The cost of transorming the sequence x into the sequence y is 47."
   ]
  },
  {
   "cell_type": "markdown",
   "metadata": {},
   "source": [
    "# 2. Huffman coding"
   ]
  },
  {
   "cell_type": "markdown",
   "metadata": {},
   "source": [
    "## 2.1. Discussion of problem\n",
    "\n",
    "This method allows to compress data without any loss of information. In other words, it\n",
    "allows to transfer information using a smaller number of bits. Bits in turn correspond to characters\n",
    "and their frequencies. To be more specific, each character is encoded using 0’s and 1’s, then the\n",
    "number of bits corresponding to each number is the length of that code multiplied by the number of\n",
    "times the letter appears (frequency)."
   ]
  },
  {
   "cell_type": "markdown",
   "metadata": {},
   "source": [
    "## 2.2. The Proposed Algorithm and Algorithmic Paradigm\n",
    "\n",
    "We employ a greedy algorithmic approach to compute a Huffman coding. A greedy algotihm main objective is to found a global optima by recursively finding a local optima at each iteration.\n",
    "\n",
    "Regular coding of the letters is based on an object called code tree. We start of by taking all the\n",
    "characters to inspect and put them as end nodes of that tree. Than we climb up and draw the\n",
    "preceding nodes and edges. In that procedure, we always match just two characters together to be in\n",
    "the same branch of the tree. At the last stage, we give values to the edges – either 0 or 1. Say, all left\n",
    "traversal is encoded to be 0 and right to be 1. Lastly, one is able to read of the code of the character\n",
    "by following the path from the start node to the character node.\n",
    "\n",
    "Huffman coding algorithm suggests however to make use of the frequencies while designing the\n",
    "Code Tree. As a result, the number of total bits, which directly rely on the frequencies can be\n",
    "decreased. This procedure goes as follows: one picks the characters with the lowest frequencies and\n",
    "tries to put them as the first end nodes of the tree (one also starts the creation of the tree from the\n",
    "bottom). Once two values are found, they are given edges to same node that has a value of the sum\n",
    "of their frequencies – let’s call it S1 parent node. (We refer two nodes as siblings if they have a common parent.)\n",
    "Next, we search for next character node with the lowest frequency. As long as its individual frequency in not higher than the sum of the preceding nodesprinted in the S1 we add it up to a tree in the following manner. We place the character node and put and edge to a node that now represents the sum of the 3 character nodes’ frequencies S2. S2 is\n",
    "linking to S1 and hence has added up the branch with 3 rd character to the tree. This happens\n",
    "recursively. However, when the individual frequency is higher than the sum of preceding frequencies\n",
    "printed in Si, then we start to create another tree using the same procedure. As the last step we\n",
    "combine all the small trees into a big tree.\n",
    "\n",
    "Finally, we also give values to the edges – either 0 or 1 in a\n",
    "manner mentioned before. Here however, we will end up with codes of different lengths. The nodes\n",
    "with the least frequencies should end up having longer codes than those with high frequencies."
   ]
  },
  {
   "cell_type": "markdown",
   "metadata": {},
   "source": [
    "## 2.3. Analysis of complexity\n",
    "\n",
    "#### 2.3.1. Frequency creation algorithm\n",
    "\n",
    "For a text $T$ of length $k$, our algorithm appends each element in the text to a list using a single loop. The cost of this algorithm will be $O(k)$.\n",
    "\n",
    "#### 2.3.2. Huffman encoding algorithm\n",
    "\n",
    "For Huffman encoding, we begin by merging the lowest frequency nodes recursively until we have only 2 nodes. This will involve $(n-2)$ recursive calls. At each step, we are sorting an ever reducing dictionary with a cost of $O(i\\log{i})$ where $i = 2,..,n$. Combining these steps, the complexity of this step is:\n",
    "\n",
    "$$[n\\log{n} + (n-1)\\log{n-1} +...+ 2\\log{2}] = O(n^{2}\\log{n})$$\n",
    "\n",
    "After we have fully merged the tree into 2 nodes, we must split the tree again and assign the codes. This will involve $(n-2)$ splits and operations of $O(1)$ at each split. \n",
    "\n",
    "Hence our total complexity becomes:\n",
    "\n",
    "$$O(n^{2}\\log{n}) + O(n-2) = O(n^{2}\\log{n})=O(n^{2})$$\n",
    "\n",
    "\n",
    "#### 2.3.3. Huffman decoding algorithm\n",
    "\n",
    "To decode a text converted to binary, we iterate over each code in the code dictionary and check whether a code appears at the start of text, if we find a matching code, we remove that code from the front of the text.\n",
    "\n",
    "For a text of byte length $k$ and a frequency dictionary of length $n$, will on average check less than $n/2$ of the codes due to its sorted frequency structure. The number of removals is equal to the length of the text $k$ and hence our complexity is of the order of: $O(kn)$ but given that $k >> n$ for a large enough text, this can be simplified to: \n",
    "\n",
    "$O(k)$\n",
    "\n",
    "\n",
    "We can see that as the text becomes much larger, the $O(k)$ algorithms will contribute more to the complexity as $n$ will be bounded by 26 (considering a normal Latin alphabet) plus the different characters included in the text (blank spaces, commas, dots, semicolons, etc).\n"
   ]
  },
  {
   "cell_type": "markdown",
   "metadata": {},
   "source": [
    "## 2.4. Proof of correctness \n",
    "\n",
    "\n",
    "We begin by proving that the Huffman’s algorithm computes an optimal tree for frequencies $f$ and alphabet $A$\n",
    "Huffman algorithm is an example of a greedy algorithm, implying that induction will be a suitable method to proof it. \n",
    "\n",
    "Notation wise, let’s denote the length of the code for a character as depth. Our aim is to minimise the weighted average of depths (this will give us optimal compression). Weights correspond to frequencies explained in the description of the algorithm. We will use $ABL(T)$ to denote this quantity, where $T$ is the binary tree.\n",
    "\n",
    "We rely on two lemmas:\n",
    "\n",
    "**Lemma 1** \n",
    "\n",
    "Let $T$ be a tree for some $f$ and $A$, and let $y$ and $w$ be two leaves. Let $T’$ be the tree obtained from $T$ by swapping y and w. Then $ABL(T’)−ABL(T) = (f(y) − f(w))(depth(w, T) − depth(y, T))$\n",
    "\n",
    "**Lemma 2**\n",
    "\n",
    "There is an optimal prefix code, with corresponding tree T, in which the two lowest-frequency letters are assigned to leaves that are siblings in T.\n",
    "\n",
    "\n",
    "**The Huffman’s algorithm computes an optimal tree for frequencies $f$ and alphabet $A$**\n",
    "\n",
    "The proof is by induction on the size of the alphabet.\n",
    "\n",
    "**Induction hypothesis**:  for all $A$ with $|A| = n$ and for all frequencies $f$, $HUF(A, f)$ clearly computes the optimal tree.\n",
    "\n",
    "For $n=1$, the frequency tree is made of one node and its cost is zero, which is the smallest possible. \n",
    "\n",
    "\n",
    "Assume that the induction hypothesis holds for $n – 1$ i.e. that $T’$ is optimal for $A’$ and $f’$.\n",
    "\n",
    "First, let us show the following:\n",
    "\n",
    "$$\n",
    "ABL(T) = \\sum_{x \\in A \\setminus \\{w,y\\}} f(x) depth(x, T)) + f(w) depth(w, T) + f(y) depth(y, T) \\\\\n",
    "= \\sum_{x \\in A \\setminus \\{w,y\\}} f(x) depth(x, T)) + (f(w) + f(y))(depth(z, T’) + 1) \\\\\n",
    "= (\\sum_{x \\in A \\setminus \\{w,y\\}} f(x) depth(x, T)) + f’(z) depth(z, T’ ) + f(w) + f(y) \\\\\n",
    "= (\\sum_{x \\in A'} f’(x) depth(x, T’ )) + f(w) + f(y) = ABL(T’) + f(w) + f(y)\n",
    "$$\n",
    "\n",
    "\n",
    "Now assume that $Z$ is the optimal tree with $w$ and $y$ as siblings (using lemma 2). Let $Z’$ be the tree obtained from $Z$ by removing $w$ and $y$ ($n-1$ case i.e. a tree for the alphabet $A’$ as showed by the induction hypothesis).\n",
    "\n",
    "Repeating the calculations for $Z$ and $Z’$, we have $ABL(Z) = ABL(Z’ ) + f(w) + f(y)$. \n",
    "\n",
    "Hence, $ABL(T’) = ABL(T)−f(w)−f(y) > ABL(Z)−f(w)−f(y) = ABL(Z’)$. Since $T’$ is optimal, by the induction hypothesis, for $A’$ and $f’$ , we arrive at a contradiction. Therefore, the Huffman’s algorithm computes an optimal tree for frequencies f and alphabet A."
   ]
  },
  {
   "cell_type": "markdown",
   "metadata": {},
   "source": [
    "## 2.5. Code\n",
    "\n",
    "The approach followed to obtain this is the following: for each recursive call of the function we have a dictionary with some nodes with their corresponding codes. Then the algorithm will remove the node which was last added, but save the code that was assigned to it. The next step is to add the daughters of the deleted node to the dictionary. Each of the two daughters will have the same code as its parent node but with a 1 or a 0 added. This recursive call will go on and on until all the original characters have its code assigned."
   ]
  },
  {
   "cell_type": "code",
   "execution_count": 1,
   "metadata": {},
   "outputs": [],
   "source": [
    "import operator\n",
    "import pandas as pd"
   ]
  },
  {
   "cell_type": "code",
   "execution_count": 2,
   "metadata": {},
   "outputs": [],
   "source": [
    "def freq_text(text):\n",
    "    freq_dict={} #we create the frequency dictionary\n",
    "    freq_list=[]#we create a list of appereances of the characters to count its frequencies\n",
    "    \n",
    "    for i in text: #we read each element in the text\n",
    "        freq_list.append(i)#we append it to a list so we can use count() to see the frequency it appears on the text\n",
    "        freq_dict[i]=freq_list.count(i) #we update or create the entry of the dictionary corresponding to the element\n",
    "    \n",
    "    return freq_dict\n",
    "\n",
    "\n",
    "def huffman_encoding(freq_dict):\n",
    "    if len(freq_dict)==2: #for the last step of the recursive call (two nodes), we assign 1 to one and 0 to the other\n",
    "        return dict(zip(freq_dict.keys(), ['0', '1'])) \n",
    "    \n",
    "    dict_copy=freq_dict.copy() #we create a copy to not modify te original dicitonary\n",
    "    sorted_dict=sorted(freq_dict.items(),  key=operator.itemgetter(1)) #we sort the dictionary by ascending frequency\n",
    "    low_freq1=sorted_dict[0][1]#we get the frequency of the two lowest elements\n",
    "    low_freq2=sorted_dict[1][1]\n",
    "    low_freq1_key=sorted_dict[0][0]#we get the key (symbol) of these two elements\n",
    "    low_freq2_key=sorted_dict[1][0]\n",
    "\n",
    "    #we want a new dictionary where the two lowest frequencies are merged\n",
    "    dict_copy.pop(low_freq1_key)#we remove the old ones\n",
    "    dict_copy.pop(low_freq2_key)\n",
    "    dict_copy[low_freq1_key+low_freq2_key]=low_freq1+low_freq2 #we add the new entry with the name of its two daughters \n",
    "                                                              #and the sum of frequencies\n",
    "   \n",
    "    #now we have to do the recursive part of the algorithm to build the tree until the top node (bottom-up)\n",
    "    recursive_tree=huffman_encoding(dict_copy)\n",
    "    recursive_tree_new = recursive_tree.pop(low_freq1_key + low_freq2_key) #it removes the two last nodes that \n",
    "                                                                          #were added together and obtains its value\n",
    "    recursive_tree[low_freq1_key]=recursive_tree_new +'0' #we create the two daughters of the original node \n",
    "                                                         #that was previously removed \n",
    "    recursive_tree[low_freq2_key]=recursive_tree_new +'1' #from the previous code that the merged node had, we add a 1\n",
    "                                                         #or a 0 to each daughter\n",
    "    \n",
    "    return recursive_tree\n",
    "\n",
    "def get_binary_text(text,code): #with this function we get the text, the coding and return the text compressed\n",
    "    bit_str='' #final string of bits\n",
    "    for i in text:#we go over each element of the text\n",
    "        bit=code[i]#we get its value from the code dictionary\n",
    "        bit_str=bit_str+str(bit)#and we append it to the final bit string\n",
    "    return bit_str\n",
    "\n",
    "#to turn a sequence of bits into a text we will iterate over the dictionary to find to which character corresponds\n",
    "#to the first few bits\n",
    "def huffman_decoding(bits,code):\n",
    "    text=''\n",
    "    values=list(code.values())#we get the values and keys of the code dict\n",
    "    keys=list(code.keys())\n",
    "\n",
    "    while len(bits)>0:#we do a while loop that will run until the bits string is empty\n",
    "        \n",
    "        for i in range (len(values)):#we iterate over all the length of the dict of code\n",
    "            val=values[i]\n",
    "            if bits[:len(val)]==val: #we slice the first n bits (where n is the length of the value of the dict \n",
    "                                    #in the present iteration)\n",
    "                text=text+keys[i] #if they are equal we append the character corresponding to this code to the text\n",
    "                val_del=val #we save this code so we can delete it afterwards (when the loop finishes)\n",
    "            else:\n",
    "                pass\n",
    "            \n",
    "        bits=bits.replace(bits[:len(val_del)],'',1)#we delete the slice of text that has already been identified\n",
    "    return text"
   ]
  },
  {
   "cell_type": "markdown",
   "metadata": {},
   "source": [
    "## 2.6. Output"
   ]
  },
  {
   "cell_type": "markdown",
   "metadata": {},
   "source": [
    "### 2.6.1. Output for the English text"
   ]
  },
  {
   "cell_type": "code",
   "execution_count": 3,
   "metadata": {},
   "outputs": [],
   "source": [
    "english_text=open('text1','r')#we read the file and we obtain a text wrapper object\n",
    "english_text=(english_text.read()).lower() #we transform the text wrapper object into a text and lower all the letters\n",
    "english_text=english_text.replace('\\n','') #we eliminate all the end of line character\n",
    "freq_dict_en=freq_text(english_text)\n",
    "code_en=huffman_encoding(freq_dict_en)\n",
    "byte_en=get_binary_text(english_text,code_en)\n",
    "text_decoded_en=huffman_decoding(byte_en,code_en)"
   ]
  },
  {
   "cell_type": "code",
   "execution_count": 4,
   "metadata": {},
   "outputs": [
    {
     "data": {
      "text/plain": [
       "True"
      ]
     },
     "execution_count": 4,
     "metadata": {},
     "output_type": "execute_result"
    }
   ],
   "source": [
    "text_decoded_en==english_text #we make sure that the original text and the decoded text are equal"
   ]
  },
  {
   "cell_type": "code",
   "execution_count": 6,
   "metadata": {},
   "outputs": [],
   "source": [
    "code_en_table=pd.DataFrame.from_dict(code_en,orient='index')\n",
    "code_en_table.columns=['Code']"
   ]
  },
  {
   "cell_type": "code",
   "execution_count": 7,
   "metadata": {},
   "outputs": [
    {
     "data": {
      "text/html": [
       "<div>\n",
       "<style scoped>\n",
       "    .dataframe tbody tr th:only-of-type {\n",
       "        vertical-align: middle;\n",
       "    }\n",
       "\n",
       "    .dataframe tbody tr th {\n",
       "        vertical-align: top;\n",
       "    }\n",
       "\n",
       "    .dataframe thead th {\n",
       "        text-align: right;\n",
       "    }\n",
       "</style>\n",
       "<table border=\"1\" class=\"dataframe\">\n",
       "  <thead>\n",
       "    <tr style=\"text-align: right;\">\n",
       "      <th></th>\n",
       "      <th>Code</th>\n",
       "    </tr>\n",
       "  </thead>\n",
       "  <tbody>\n",
       "    <tr>\n",
       "      <th></th>\n",
       "      <td>00</td>\n",
       "    </tr>\n",
       "    <tr>\n",
       "      <th>e</th>\n",
       "      <td>1110</td>\n",
       "    </tr>\n",
       "    <tr>\n",
       "      <th>a</th>\n",
       "      <td>1011</td>\n",
       "    </tr>\n",
       "    <tr>\n",
       "      <th>l</th>\n",
       "      <td>1000</td>\n",
       "    </tr>\n",
       "    <tr>\n",
       "      <th>o</th>\n",
       "      <td>1001</td>\n",
       "    </tr>\n",
       "    <tr>\n",
       "      <th>t</th>\n",
       "      <td>0110</td>\n",
       "    </tr>\n",
       "    <tr>\n",
       "      <th>i</th>\n",
       "      <td>0101</td>\n",
       "    </tr>\n",
       "    <tr>\n",
       "      <th>n</th>\n",
       "      <td>11110</td>\n",
       "    </tr>\n",
       "    <tr>\n",
       "      <th>s</th>\n",
       "      <td>11111</td>\n",
       "    </tr>\n",
       "    <tr>\n",
       "      <th>m</th>\n",
       "      <td>11011</td>\n",
       "    </tr>\n",
       "    <tr>\n",
       "      <th>h</th>\n",
       "      <td>11000</td>\n",
       "    </tr>\n",
       "    <tr>\n",
       "      <th>r</th>\n",
       "      <td>11001</td>\n",
       "    </tr>\n",
       "    <tr>\n",
       "      <th>d</th>\n",
       "      <td>01110</td>\n",
       "    </tr>\n",
       "    <tr>\n",
       "      <th>,</th>\n",
       "      <td>01111</td>\n",
       "    </tr>\n",
       "    <tr>\n",
       "      <th>y</th>\n",
       "      <td>01001</td>\n",
       "    </tr>\n",
       "    <tr>\n",
       "      <th>b</th>\n",
       "      <td>110100</td>\n",
       "    </tr>\n",
       "    <tr>\n",
       "      <th>u</th>\n",
       "      <td>101010</td>\n",
       "    </tr>\n",
       "    <tr>\n",
       "      <th>w</th>\n",
       "      <td>101001</td>\n",
       "    </tr>\n",
       "    <tr>\n",
       "      <th>f</th>\n",
       "      <td>010000</td>\n",
       "    </tr>\n",
       "    <tr>\n",
       "      <th>v</th>\n",
       "      <td>010001</td>\n",
       "    </tr>\n",
       "    <tr>\n",
       "      <th>p</th>\n",
       "      <td>1101010</td>\n",
       "    </tr>\n",
       "    <tr>\n",
       "      <th>!</th>\n",
       "      <td>1101011</td>\n",
       "    </tr>\n",
       "    <tr>\n",
       "      <th>.</th>\n",
       "      <td>1010110</td>\n",
       "    </tr>\n",
       "    <tr>\n",
       "      <th>c</th>\n",
       "      <td>1010001</td>\n",
       "    </tr>\n",
       "    <tr>\n",
       "      <th>g</th>\n",
       "      <td>10101111</td>\n",
       "    </tr>\n",
       "    <tr>\n",
       "      <th>’</th>\n",
       "      <td>10100000</td>\n",
       "    </tr>\n",
       "    <tr>\n",
       "      <th>k</th>\n",
       "      <td>10100001</td>\n",
       "    </tr>\n",
       "    <tr>\n",
       "      <th>x</th>\n",
       "      <td>101011100</td>\n",
       "    </tr>\n",
       "    <tr>\n",
       "      <th>?</th>\n",
       "      <td>101011101</td>\n",
       "    </tr>\n",
       "  </tbody>\n",
       "</table>\n",
       "</div>"
      ],
      "text/plain": [
       "        Code\n",
       "          00\n",
       "e       1110\n",
       "a       1011\n",
       "l       1000\n",
       "o       1001\n",
       "t       0110\n",
       "i       0101\n",
       "n      11110\n",
       "s      11111\n",
       "m      11011\n",
       "h      11000\n",
       "r      11001\n",
       "d      01110\n",
       ",      01111\n",
       "y      01001\n",
       "b     110100\n",
       "u     101010\n",
       "w     101001\n",
       "f     010000\n",
       "v     010001\n",
       "p    1101010\n",
       "!    1101011\n",
       ".    1010110\n",
       "c    1010001\n",
       "g   10101111\n",
       "’   10100000\n",
       "k   10100001\n",
       "x  101011100\n",
       "?  101011101"
      ]
     },
     "execution_count": 7,
     "metadata": {},
     "output_type": "execute_result"
    }
   ],
   "source": [
    "code_en_table"
   ]
  },
  {
   "cell_type": "markdown",
   "metadata": {},
   "source": [
    "### 2.6.2. Output for the German text"
   ]
  },
  {
   "cell_type": "code",
   "execution_count": 8,
   "metadata": {},
   "outputs": [],
   "source": [
    "german_text=open('text2','r')\n",
    "german_text=(german_text.read()).lower()\n",
    "german_text=german_text.replace('\\n','')\n",
    "freq_dict_ger=freq_text(german_text)\n",
    "code_ger=huffman_encoding(freq_dict_ger)\n",
    "byte_ger=get_binary_text(german_text,code_ger)\n",
    "text_decoded_ger=huffman_decoding(byte_ger,code_ger)"
   ]
  },
  {
   "cell_type": "code",
   "execution_count": 9,
   "metadata": {},
   "outputs": [
    {
     "data": {
      "text/plain": [
       "True"
      ]
     },
     "execution_count": 9,
     "metadata": {},
     "output_type": "execute_result"
    }
   ],
   "source": [
    "german_text==text_decoded_ger"
   ]
  },
  {
   "cell_type": "code",
   "execution_count": 10,
   "metadata": {},
   "outputs": [],
   "source": [
    "code_ger_table=pd.DataFrame.from_dict(code_ger,orient='index')\n",
    "code_ger_table.columns=['Code']"
   ]
  },
  {
   "cell_type": "code",
   "execution_count": 11,
   "metadata": {},
   "outputs": [
    {
     "data": {
      "text/html": [
       "<div>\n",
       "<style scoped>\n",
       "    .dataframe tbody tr th:only-of-type {\n",
       "        vertical-align: middle;\n",
       "    }\n",
       "\n",
       "    .dataframe tbody tr th {\n",
       "        vertical-align: top;\n",
       "    }\n",
       "\n",
       "    .dataframe thead th {\n",
       "        text-align: right;\n",
       "    }\n",
       "</style>\n",
       "<table border=\"1\" class=\"dataframe\">\n",
       "  <thead>\n",
       "    <tr style=\"text-align: right;\">\n",
       "      <th></th>\n",
       "      <th>Code</th>\n",
       "    </tr>\n",
       "  </thead>\n",
       "  <tbody>\n",
       "    <tr>\n",
       "      <th></th>\n",
       "      <td>111</td>\n",
       "    </tr>\n",
       "    <tr>\n",
       "      <th>e</th>\n",
       "      <td>010</td>\n",
       "    </tr>\n",
       "    <tr>\n",
       "      <th>i</th>\n",
       "      <td>1010</td>\n",
       "    </tr>\n",
       "    <tr>\n",
       "      <th>n</th>\n",
       "      <td>1011</td>\n",
       "    </tr>\n",
       "    <tr>\n",
       "      <th>h</th>\n",
       "      <td>1000</td>\n",
       "    </tr>\n",
       "    <tr>\n",
       "      <th>r</th>\n",
       "      <td>0111</td>\n",
       "    </tr>\n",
       "    <tr>\n",
       "      <th>s</th>\n",
       "      <td>0011</td>\n",
       "    </tr>\n",
       "    <tr>\n",
       "      <th>a</th>\n",
       "      <td>0000</td>\n",
       "    </tr>\n",
       "    <tr>\n",
       "      <th>u</th>\n",
       "      <td>0001</td>\n",
       "    </tr>\n",
       "    <tr>\n",
       "      <th>d</th>\n",
       "      <td>11010</td>\n",
       "    </tr>\n",
       "    <tr>\n",
       "      <th>c</th>\n",
       "      <td>11001</td>\n",
       "    </tr>\n",
       "    <tr>\n",
       "      <th>m</th>\n",
       "      <td>10010</td>\n",
       "    </tr>\n",
       "    <tr>\n",
       "      <th>t</th>\n",
       "      <td>10011</td>\n",
       "    </tr>\n",
       "    <tr>\n",
       "      <th>l</th>\n",
       "      <td>01100</td>\n",
       "    </tr>\n",
       "    <tr>\n",
       "      <th>,</th>\n",
       "      <td>110110</td>\n",
       "    </tr>\n",
       "    <tr>\n",
       "      <th>o</th>\n",
       "      <td>110111</td>\n",
       "    </tr>\n",
       "    <tr>\n",
       "      <th>w</th>\n",
       "      <td>110000</td>\n",
       "    </tr>\n",
       "    <tr>\n",
       "      <th>b</th>\n",
       "      <td>011010</td>\n",
       "    </tr>\n",
       "    <tr>\n",
       "      <th>k</th>\n",
       "      <td>011011</td>\n",
       "    </tr>\n",
       "    <tr>\n",
       "      <th>g</th>\n",
       "      <td>001011</td>\n",
       "    </tr>\n",
       "    <tr>\n",
       "      <th>z</th>\n",
       "      <td>001000</td>\n",
       "    </tr>\n",
       "    <tr>\n",
       "      <th>f</th>\n",
       "      <td>001001</td>\n",
       "    </tr>\n",
       "    <tr>\n",
       "      <th>̈</th>\n",
       "      <td>1100011</td>\n",
       "    </tr>\n",
       "    <tr>\n",
       "      <th>p</th>\n",
       "      <td>11000100</td>\n",
       "    </tr>\n",
       "    <tr>\n",
       "      <th>;</th>\n",
       "      <td>11000101</td>\n",
       "    </tr>\n",
       "    <tr>\n",
       "      <th>!</th>\n",
       "      <td>00101010</td>\n",
       "    </tr>\n",
       "    <tr>\n",
       "      <th>.</th>\n",
       "      <td>00101011</td>\n",
       "    </tr>\n",
       "    <tr>\n",
       "      <th>v</th>\n",
       "      <td>00101000</td>\n",
       "    </tr>\n",
       "    <tr>\n",
       "      <th>q</th>\n",
       "      <td>001010010</td>\n",
       "    </tr>\n",
       "    <tr>\n",
       "      <th>j</th>\n",
       "      <td>001010011</td>\n",
       "    </tr>\n",
       "  </tbody>\n",
       "</table>\n",
       "</div>"
      ],
      "text/plain": [
       "        Code\n",
       "         111\n",
       "e        010\n",
       "i       1010\n",
       "n       1011\n",
       "h       1000\n",
       "r       0111\n",
       "s       0011\n",
       "a       0000\n",
       "u       0001\n",
       "d      11010\n",
       "c      11001\n",
       "m      10010\n",
       "t      10011\n",
       "l      01100\n",
       ",     110110\n",
       "o     110111\n",
       "w     110000\n",
       "b     011010\n",
       "k     011011\n",
       "g     001011\n",
       "z     001000\n",
       "f     001001\n",
       "̈    1100011\n",
       "p   11000100\n",
       ";   11000101\n",
       "!   00101010\n",
       ".   00101011\n",
       "v   00101000\n",
       "q  001010010\n",
       "j  001010011"
      ]
     },
     "execution_count": 11,
     "metadata": {},
     "output_type": "execute_result"
    }
   ],
   "source": [
    "code_ger_table"
   ]
  },
  {
   "cell_type": "markdown",
   "metadata": {},
   "source": [
    "### 2.6.3. Comparison between English and German\n",
    "\n",
    "Here we compare, as requested, the differents between the codes associated to each text. As explained before, the codes are related with the frequency of appearance of a character. Therefore, shorter codes means that a character appears with a high frequency. We can see that the space is the most common character in both texts. However for the English one is coded with only two bits and for the German one with three. This is due to the fact that the German frequency dictionary is larger (30) than the English one (29). As a consequence, we need more bits to encode the same character. We can see how both languages use different letters, for example in English a is the second most used letter whereas in German is the 7th. The same happens with letter o: the third most used letter in the English text 14th in the German one."
   ]
  },
  {
   "cell_type": "code",
   "execution_count": 12,
   "metadata": {},
   "outputs": [
    {
     "data": {
      "text/plain": [
       "[(' ', 175),\n",
       " ('e', 68),\n",
       " ('a', 55),\n",
       " ('o', 52),\n",
       " ('l', 48),\n",
       " ('t', 46),\n",
       " ('i', 42),\n",
       " ('s', 38),\n",
       " ('n', 36),\n",
       " ('m', 34),\n",
       " ('r', 30),\n",
       " ('h', 29),\n",
       " ('d', 23),\n",
       " (',', 23),\n",
       " ('y', 21),\n",
       " ('b', 15),\n",
       " ('u', 14),\n",
       " ('w', 13),\n",
       " ('f', 10),\n",
       " ('v', 10),\n",
       " ('!', 9),\n",
       " ('p', 8),\n",
       " ('c', 7),\n",
       " ('.', 7),\n",
       " ('g', 4),\n",
       " ('k', 3),\n",
       " ('?', 2),\n",
       " ('’', 2),\n",
       " ('x', 1)]"
      ]
     },
     "execution_count": 12,
     "metadata": {},
     "output_type": "execute_result"
    }
   ],
   "source": [
    "sorted(freq_dict_en.items(),  key=operator.itemgetter(1),reverse=True)"
   ]
  },
  {
   "cell_type": "code",
   "execution_count": 13,
   "metadata": {},
   "outputs": [
    {
     "data": {
      "text/plain": [
       "[(' ', 213),\n",
       " ('e', 131),\n",
       " ('n', 83),\n",
       " ('i', 77),\n",
       " ('h', 72),\n",
       " ('r', 69),\n",
       " ('s', 65),\n",
       " ('a', 51),\n",
       " ('u', 51),\n",
       " ('d', 45),\n",
       " ('c', 43),\n",
       " ('t', 38),\n",
       " ('m', 35),\n",
       " ('l', 32),\n",
       " ('o', 24),\n",
       " (',', 23),\n",
       " ('w', 20),\n",
       " ('b', 17),\n",
       " ('k', 17),\n",
       " ('g', 15),\n",
       " ('f', 13),\n",
       " ('z', 12),\n",
       " ('̈', 11),\n",
       " ('p', 5),\n",
       " (';', 5),\n",
       " ('!', 4),\n",
       " ('.', 4),\n",
       " ('v', 3),\n",
       " ('j', 2),\n",
       " ('q', 1)]"
      ]
     },
     "execution_count": 13,
     "metadata": {},
     "output_type": "execute_result"
    }
   ],
   "source": [
    "sorted(freq_dict_ger.items(),  key=operator.itemgetter(1),reverse=True)"
   ]
  },
  {
   "cell_type": "markdown",
   "metadata": {},
   "source": [
    "# 3. References\n",
    "\n",
    "Kleinberg, J., and Tardos, E.(2014). *Algorithm design*, 1st edn (Harlow: Pearson).\n",
    "\n",
    "Sharma, M. (2010). *Compression using Huffman Coding*. International Journal of Computer Science and Network Security. 10(5).\n",
    "\n",
    "Huffman Coding(2018)[online]. Available: https://people.ok.ubc.ca/ylucet/DS/Huffman.html [Accessed 19th November 2018]\n",
    "\n",
    "Manning, C. D., Raghavan, R. and Schütze, H. (2008) *Introduction to Information Retrieval*, 1st edn (Cambridge University Press).\n",
    "\n",
    "Allison, L. (1999) *Dynamic Programming Algorithm (DPA) for Edit-Distance* [online]. Available: http://users.monash.edu/~lloyd/tildeAlgDS/Dynamic/Edit/ [Accessed 21st November 2018]\n",
    "\n"
   ]
  }
 ],
 "metadata": {
  "kernelspec": {
   "display_name": "Python 3",
   "language": "python",
   "name": "python3"
  },
  "language_info": {
   "codemirror_mode": {
    "name": "ipython",
    "version": 3
   },
   "file_extension": ".py",
   "mimetype": "text/x-python",
   "name": "python",
   "nbconvert_exporter": "python",
   "pygments_lexer": "ipython3",
   "version": "3.6.5"
  },
  "varInspector": {
   "cols": {
    "lenName": 16,
    "lenType": 16,
    "lenVar": 40
   },
   "kernels_config": {
    "python": {
     "delete_cmd_postfix": "",
     "delete_cmd_prefix": "del ",
     "library": "var_list.py",
     "varRefreshCmd": "print(var_dic_list())"
    },
    "r": {
     "delete_cmd_postfix": ") ",
     "delete_cmd_prefix": "rm(",
     "library": "var_list.r",
     "varRefreshCmd": "cat(var_dic_list()) "
    }
   },
   "types_to_exclude": [
    "module",
    "function",
    "builtin_function_or_method",
    "instance",
    "_Feature"
   ],
   "window_display": false
  }
 },
 "nbformat": 4,
 "nbformat_minor": 2
}
